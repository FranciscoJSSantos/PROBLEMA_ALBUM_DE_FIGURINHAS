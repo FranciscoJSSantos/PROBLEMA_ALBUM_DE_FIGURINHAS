{
  "nbformat": 4,
  "nbformat_minor": 0,
  "metadata": {
    "colab": {
      "name": "PROBLEMA_ALBUM_DE_FIGURINHAS.ipynb",
      "provenance": [],
      "toc_visible": true,
      "authorship_tag": "ABX9TyPMcI7R3byr/0vaAZNXY6zJ",
      "include_colab_link": true
    },
    "kernelspec": {
      "name": "python3",
      "display_name": "Python 3"
    },
    "language_info": {
      "name": "python"
    }
  },
  "cells": [
    {
      "cell_type": "markdown",
      "metadata": {
        "id": "view-in-github",
        "colab_type": "text"
      },
      "source": [
        "<a href=\"https://colab.research.google.com/github/FranciscoJSSantos/PROBLEMA_ALBUM_DE_FIGURINHAS/blob/main/PROBLEMA_ALBUM_DE_FIGURINHAS.ipynb\" target=\"_parent\"><img src=\"https://colab.research.google.com/assets/colab-badge.svg\" alt=\"Open In Colab\"/></a>"
      ]
    },
    {
      "cell_type": "markdown",
      "source": [
        "#Simulação do álbum da copa\n",
        "\n",
        "##Membros do Grupo:\n",
        "- Amadeu Martim Silva De Oliveira\n",
        "- Danilo Michell Lisboa de Freitas\n",
        "- Francisco José dos Santos Santana\n",
        "- Paulo Henrique Medeiros Bittencourt\n",
        "\n"
      ],
      "metadata": {
        "id": "TEYxu2uq1O0n"
      }
    },
    {
      "cell_type": "markdown",
      "source": [
        "---"
      ],
      "metadata": {
        "id": "DVVuDWbS2UVs"
      }
    },
    {
      "cell_type": "markdown",
      "source": [
        "**PROBLEMA**: Considerando que todas as figurinhas (cromos) possuem a mesma probabilidade de serem sorteadas e que um pacote de figurinhas e comprado por vez até que se complete o álbum vamos desenvolver um código Python que responda as seguintes perguntas: \n",
        "\n",
        "- (1) Qual o valor médio investido para completar o álbum nessas condições?\n",
        "- (2) Quantos pacotes são necessários comprar, em média, para completar o álbum?\n",
        "- (3) Qual é a distribuição empírica do valor investido para completar o álbum?\n",
        "- (4) Qual o valor médio gasto caso se esteja completando o álbum com mais um amigo?\n",
        "\n",
        "**ALGORITMO**: Para a construção deste projeto, considere o seguinte algoritmo:\n",
        "\n",
        "- (1) Comprar um pacotinho de figurinhas (5 figurinhas cada, que podem ser repetidas);\n",
        "- (2) Colar no álbum e verificar se o álbum está completo;\n",
        "- (3) Caso esteja incompleto, comprar mais um pacotinho, caso contrário, terminar."
      ],
      "metadata": {
        "id": "aL13GWIC1mC1"
      }
    },
    {
      "cell_type": "markdown",
      "source": [
        "---"
      ],
      "metadata": {
        "id": "DkRAVNSA2KBK"
      }
    },
    {
      "cell_type": "code",
      "execution_count": 2,
      "metadata": {
        "id": "tbpcIdL3zfjy"
      },
      "outputs": [],
      "source": [
        "#Dados de entrada\n",
        "\n",
        "n_album = 670\n",
        "preco_pacote = 4\n",
        "cromos_por_pacote = 5\n",
        "preco_album = 44.90\n",
        "simulacoes = 10000"
      ]
    }
  ]
}