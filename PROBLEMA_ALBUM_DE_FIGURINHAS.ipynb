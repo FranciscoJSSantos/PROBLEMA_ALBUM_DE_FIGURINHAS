{
  "nbformat": 4,
  "nbformat_minor": 0,
  "metadata": {
    "colab": {
      "name": "PROBLEMA_ALBUM_DE_FIGURINHAS.ipynb",
      "provenance": [],
      "toc_visible": true,
      "include_colab_link": true
    },
    "kernelspec": {
      "name": "python3",
      "display_name": "Python 3"
    },
    "language_info": {
      "name": "python"
    }
  },
  "cells": [
    {
      "cell_type": "markdown",
      "metadata": {
        "id": "view-in-github",
        "colab_type": "text"
      },
      "source": [
        "<a href=\"https://colab.research.google.com/github/FranciscoJSSantos/PROBLEMA_ALBUM_DE_FIGURINHAS/blob/main/PROBLEMA_ALBUM_DE_FIGURINHAS.ipynb\" target=\"_parent\"><img src=\"https://colab.research.google.com/assets/colab-badge.svg\" alt=\"Open In Colab\"/></a>"
      ]
    },
    {
      "cell_type": "markdown",
      "source": [
        "#Simulação do álbum da copa\n",
        "\n",
        "##Membros do Grupo:\n",
        "- Amadeu Martim Silva De Oliveira\n",
        "- Danilo Michell Lisboa de Freitas\n",
        "- Francisco José dos Santos Santana\n",
        "- Paulo Henrique Medeiros Bittencourt\n",
        "\n"
      ],
      "metadata": {
        "id": "TEYxu2uq1O0n"
      }
    },
    {
      "cell_type": "markdown",
      "source": [
        "---"
      ],
      "metadata": {
        "id": "DVVuDWbS2UVs"
      }
    },
    {
      "cell_type": "markdown",
      "source": [
        "**PROBLEMA**: Considerando que todas as figurinhas (cromos) possuem a mesma probabilidade de serem sorteadas e que um pacote de figurinhas e comprado por vez até que se complete o álbum vamos desenvolver um código Python que responda as seguintes perguntas: \n",
        "\n",
        "- (1) Qual o valor médio investido para completar o álbum nessas condições?\n",
        "- (2) Quantos pacotes são necessários comprar, em média, para completar o álbum?\n",
        "- (3) Qual é a distribuição empírica do valor investido para completar o álbum?\n",
        "- (4) Qual o valor médio gasto caso se esteja completando o álbum com mais um amigo?\n",
        "\n",
        "**ALGORITMO**: Para a construção deste projeto, considere o seguinte algoritmo:\n",
        "\n",
        "- (1) Comprar um pacotinho de figurinhas (5 figurinhas cada, que podem ser repetidas);\n",
        "- (2) Colar no álbum e verificar se o álbum está completo;\n",
        "- (3) Caso esteja incompleto, comprar mais um pacotinho, caso contrário, terminar."
      ],
      "metadata": {
        "id": "aL13GWIC1mC1"
      }
    },
    {
      "cell_type": "markdown",
      "source": [
        "---"
      ],
      "metadata": {
        "id": "DkRAVNSA2KBK"
      }
    },
    {
      "cell_type": "code",
      "execution_count": null,
      "metadata": {
        "id": "tbpcIdL3zfjy"
      },
      "outputs": [],
      "source": [
        "import numpy as np\n",
        "\n",
        "nr_figurinhas = 670 \n",
        "preco_pacote = 4\n",
        "cromos_por_pacote = 5\n",
        "preco_album = 44.90\n",
        "simulacoes = 100  \n",
        "amigos = 0\n",
        "def gerar_album():\n",
        "  return list(np.arange(1,nr_figurinhas+1))\n",
        "\n",
        "def gerar_pacote():\n",
        "  x = np.random.randint(1,nr_figurinhas+1, (1,cromos_por_pacote))\n",
        "  return x[0]\n",
        "\n",
        "def calculo_valor_album_completo(album):\n",
        "  n_pacotes = 0\n",
        "  while len(album) > 0:\n",
        "    pacote = gerar_pacote() \n",
        "    n_pacotes+=1\n",
        "    for i in range(len(pacote)):\n",
        "      if(pacote[i] in album):\n",
        "        album.remove(pacote[i])\n",
        "    for i in range(amigos):\n",
        "      pacote = gerar_pacote() \n",
        "      for i in range(len(pacote)):\n",
        "        if(pacote[i] in album):\n",
        "          album.remove(pacote[i])     \n",
        "  return preco_album+(preco_pacote*n_pacotes),n_pacotes\n",
        "\n",
        "def executar_simulacoes():\n",
        "  valor_gasto = 0;\n",
        "  n_pacotes = 0\n",
        "  for i in range(simulacoes):  \n",
        "    album = gerar_album()\n",
        "    valor_gasto_retorno,n_pacotes_retorno = calculo_valor_album_completo(album) \n",
        "    valor_gasto += valor_gasto_retorno\n",
        "    n_pacotes += n_pacotes_retorno \n",
        "  return round(valor_gasto/simulacoes,2),round(n_pacotes/simulacoes)\n",
        "\n",
        "def main():\n",
        "  valor_gasto_medio,n_pacotes_medio = executar_simulacoes()\n",
        "  print(f\"Foi gasto R${valor_gasto_medio} e um total de {n_pacotes_medio} pacotes em média\")\n",
        " \n",
        "\n",
        "main()"
      ]
    }
  ]
}